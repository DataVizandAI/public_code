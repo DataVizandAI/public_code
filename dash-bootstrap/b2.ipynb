{
 "cells": [
  {
   "cell_type": "code",
   "execution_count": null,
   "metadata": {},
   "outputs": [
    {
     "data": {
      "text/html": [
       "\n",
       "        <iframe\n",
       "            width=\"100%\"\n",
       "            height=\"650\"\n",
       "            src=\"http://127.0.0.1:8050/\"\n",
       "            frameborder=\"0\"\n",
       "            allowfullscreen\n",
       "            \n",
       "        ></iframe>\n",
       "        "
      ],
      "text/plain": [
       "<IPython.lib.display.IFrame at 0x1f765571fd0>"
      ]
     },
     "metadata": {},
     "output_type": "display_data"
    }
   ],
   "source": [
    "\n",
    "from dash import Dash, html, dcc, callback, Output, Input\n",
    "import plotly.express as px\n",
    "import pandas as pd\n",
    "import dash_bootstrap_components as dbc\n",
    "\n",
    "app = Dash(external_stylesheets=[dbc.themes.BOOTSTRAP])\n",
    "\n",
    "df = pd.read_csv(\"data/co2_total.csv\") \n",
    "marks={ int(i): str(i) for i in df.Year.unique() if i%50==0}\n",
    "\n",
    "min_year = df.Year.min()\n",
    "max_year = df.Year.max()\n",
    "mid_year = (max_year+min_year)//2\n",
    "\n",
    "DEFAULT_CLASS = 'border border-primary rounded p-2 bg-light m-2'\n",
    "\n",
    "app.layout = dbc.Container(\n",
    "    [\n",
    "        html.H1('Dash App with Bootstrap components - CO2 emissions', className=f\"{DEFAULT_CLASS} text-center text-dark bg-dark-subtle\"),\n",
    "        \n",
    "            dbc.Row([\n",
    "                html.Div('Global CO2 Emissions', className='h3 text-danger'),\n",
    "                html.Div(\"Move the slider to display the CO2 emissions by country for a specific year\", className='text-secondary'),\n",
    "                dcc.Slider(min=min_year, max=max_year, value=mid_year, step=1, marks=marks, id='slider-value'),\n",
    "                dcc.Graph(id='graph2-content'),\n",
    "                dcc.Markdown(\"\"\"The data used in this article is derived from Our World in Data. \n",
    "                                OWD publishes articles and data about the most pressing problems that the world faces. \n",
    "                                All its content is open source and its data is downloadable \n",
    "                                — see [Our World in Data](https://ourworldindata.org/) for details.\n",
    "                            \"\"\", className='text-secondary')\n",
    "                ],\n",
    "                className='border border-primary rounded p-2 bg-light m-2'\n",
    "            ),\n",
    "    ], className=f\"{DEFAULT_CLASS} container-fluid\"\n",
    ")\n",
    "\n",
    "@callback(\n",
    "    Output('graph2-content', 'figure'),\n",
    "    Input('slider-value', 'value')\n",
    ")\n",
    "def update_graph(value):\n",
    "    col = 'Annual CO₂ emissions'# the column that contains the emissions data\n",
    "    max = df[col].max()         # maximum emissions value for color range\n",
    "    min = df[col].min() \n",
    "        \n",
    "    fig = px.choropleth(df[df['Year']==value], \n",
    "        locations=\"Code\",       # The ISO code for the Entity (country)\n",
    "        color=col,              # color is set by this column\n",
    "        hover_name=\"Entity\",    # hover name is the name of the Entity (country)\n",
    "        range_color=(min,max),  # the range of values as set above\n",
    "        scope= 'world',         # a world map - the default\n",
    "        projection='equirectangular', \n",
    "        title=f\"CO2 Emissions by country in {value}\",\n",
    "        color_continuous_scale=px.colors.sequential.Reds\n",
    "        )\n",
    "    fig.update_layout(\n",
    "        margin=dict(l=0, r=0, t=60, b=0),\n",
    "        coloraxis_colorbar=dict(\n",
    "        title=\"Tonnes\",),\n",
    "        )\n",
    "    return fig\n",
    "\n",
    "if __name__ == '__main__':\n",
    "    app.run(debug=True, jupyter_mode='jupyterlab)\n"
   ]
  },
  {
   "cell_type": "code",
   "execution_count": null,
   "metadata": {},
   "outputs": [],
   "source": []
  }
 ],
 "metadata": {
  "kernelspec": {
   "display_name": "Python 3 (ipykernel)",
   "language": "python",
   "name": "python3"
  },
  "language_info": {
   "codemirror_mode": {
    "name": "ipython",
    "version": 3
   },
   "file_extension": ".py",
   "mimetype": "text/x-python",
   "name": "python",
   "nbconvert_exporter": "python",
   "pygments_lexer": "ipython3",
   "version": "3.13.2"
  }
 },
 "nbformat": 4,
 "nbformat_minor": 4
}
