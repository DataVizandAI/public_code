{
 "cells": [
  {
   "cell_type": "code",
   "execution_count": 29,
   "id": "1b2af8af-9fbc-453a-8ecb-b684cd768d8a",
   "metadata": {},
   "outputs": [],
   "source": [
    "import nest_asyncio\n",
    "nest_asyncio.apply()"
   ]
  },
  {
   "cell_type": "markdown",
   "id": "7f803a82-feb7-4773-814a-8797665324a1",
   "metadata": {},
   "source": [
    "# Agents as tools\n",
    "\n",
    "No handoffs used. Agents use other agents as tools acheiving the same result as the handoffs version.\n",
    "\n",
    "The Orchestrator agent uses the researcher to write an article and then uses the Format aget to format it. The Researcher uses one of the Writer agents to produce the article."
   ]
  },
  {
   "cell_type": "code",
   "execution_count": 30,
   "id": "f540c94b-b9ff-40d7-9a08-a4316bbda822",
   "metadata": {},
   "outputs": [],
   "source": [
    "from agents import Agent, Runner, function_tool, handoff\n",
    "from pydantic import BaseModel\n",
    "\n",
    "class PRArticle(BaseModel):\n",
    "    article_text: str\n",
    "    commentary: str\n",
    "\n",
    "adult_writer_agent = Agent(\n",
    "    name=\"Adult Writer Agent\",\n",
    "    instructions=\"\"\"Write the article based on the information given that it is suitable for adults interested in culture. \n",
    "                    Be mature.\"\"\", \n",
    "    model=\"gpt-4o\",\n",
    ")\n",
    "\n",
    "teen_writer_agent = Agent(\n",
    "    name=\"Teen Writer Agent\",\n",
    "    instructions=\"\"\"Write the article based on the information given that it is suitable for teenagers who want to have a good time. \n",
    "                    Be cool!\"\"\", \n",
    "    model=\"gpt-4o\",\n",
    ")\n",
    "\n",
    "kid_writer_agent = Agent(\n",
    "    name=\"Kid Writer Agent\",\n",
    "    instructions=\"\"\"Write the article based on the information given that it is suitable for kids of around 8 years old. \n",
    "                    Be enthusiastic!\"\"\", \n",
    "    model=\"gpt-4o\",\n",
    ")\n",
    "\n",
    "format_agent = Agent(\n",
    "    name=\"Format Agent\",\n",
    "    instructions=f\"\"\"Edit the article to add a title and subtitles and ensure the text is formatted as Markdown. Return only the text of article.\"\"\", \n",
    "    model=\"gpt-4o\",\n",
    ")\n",
    "\n",
    "researcher_agent = Agent(\n",
    "    name=\"Research agent\",\n",
    "    instructions=\"\"\"You are a Travel Agent who will find useful information for your customers of all ages.\n",
    "                    Find information on the destination(s) given. \n",
    "                    When you have a result send it to the appropriate writer agent to produce a short PR text.\n",
    "                    When you have the result send it to the Format agent for final processing.\n",
    "                    Return the text of the PR piece only\"\"\",\n",
    "    model=\"gpt-4o\",\n",
    "    tools = [kid_writer_agent.as_tool(\n",
    "                tool_name=\"kids_article_writer\",\n",
    "                tool_description=\"Write an essay for kids\",), \n",
    "            teen_writer_agent.as_tool(\n",
    "                tool_name=\"teen_article_writer\",\n",
    "                tool_description=\"Write an essay for teens\",), \n",
    "            adult_writer_agent.as_tool(\n",
    "                tool_name=\"adult_article_writer\",\n",
    "                tool_description=\"Write an essay for adults\",),\n",
    "            format_agent.as_tool(\n",
    "                tool_name=\"format_article\",\n",
    "                tool_description=\"Add titles and subtitles and format as Markdown\",\n",
    "        ),],\n",
    "    output_type = PRArticle\n",
    ")\n"
   ]
  },
  {
   "cell_type": "code",
   "execution_count": 31,
   "id": "87fc962c-6796-4c2b-9c7d-8ea382cb95f3",
   "metadata": {},
   "outputs": [],
   "source": [
    "from IPython.display import display, Markdown"
   ]
  },
  {
   "cell_type": "code",
   "execution_count": 32,
   "id": "81523ddc-5210-48b7-96d8-685d2444642a",
   "metadata": {
    "scrolled": true
   },
   "outputs": [],
   "source": [
    "result = Runner.run_sync(researcher_agent, \"The destination is Paris, France. The customers are adults.\")"
   ]
  },
  {
   "cell_type": "code",
   "execution_count": 33,
   "id": "fa808ca7-33fb-4a1b-81bd-f2205efa2724",
   "metadata": {},
   "outputs": [
    {
     "data": {
      "text/markdown": [
       "# Exploring the Allure of Paris: A Romantic and Cultural Getaway\n",
       "\n",
       "## Iconic Landmarks\n",
       "\n",
       "Paris is a city of romance, culture, and history. Known for its iconic landmarks such as the Eiffel Tower, Notre-Dame Cathedral, and the Louvre Museum, Paris offers an unparalleled experience for adults seeking a mix of adventure and relaxation.\n",
       "\n",
       "## Culinary Delights\n",
       "\n",
       "The city's charming cafes, world-class restaurants, and picturesque streets make it a perfect destination for exploring the French cuisine and art scene.\n",
       "\n",
       "## Memorable Activities\n",
       "\n",
       "Whether enjoying a cruise on the Seine River or strolling through Montmartre, Paris promises memories that will last a lifetime.\n"
      ],
      "text/plain": [
       "<IPython.core.display.Markdown object>"
      ]
     },
     "metadata": {},
     "output_type": "display_data"
    }
   ],
   "source": [
    "display(Markdown(result.final_output.article_text))"
   ]
  },
  {
   "cell_type": "code",
   "execution_count": 34,
   "id": "300a0d67-50ad-4f9d-9f68-6ec28bb2e296",
   "metadata": {},
   "outputs": [],
   "source": [
    "result = Runner.run_sync(researcher_agent, \"The destination is Paris, France. The customers are teenagers.\")\n"
   ]
  },
  {
   "cell_type": "code",
   "execution_count": 35,
   "id": "311ddc7f-33e5-4e46-ba59-5a524723a15d",
   "metadata": {},
   "outputs": [
    {
     "data": {
      "text/markdown": [
       "# Discovering Paris: A Teen's Ultimate Adventure Guide\n",
       "\n",
       "Hey there, adventure seekers! If you're dreaming of a trip that mixes culture, style, and just plain fun, Paris should be at the top of your list. The City of Light is packed with incredible spots that guarantee an unforgettable experience.\n",
       "\n",
       "## Snap-Worthy Spots\n",
       "\n",
       "First stop, the iconic **Eiffel Tower**. Not only is it the perfect backdrop for your Instagram feed, but catching the view from the top is next-level amazing. Don’t forget to time it right to catch the magical light show in the evening!\n",
       "\n",
       "## Art Vibes\n",
       "\n",
       "Feel like getting artsy? Head to the **Louvre Museum**. Yes, it’s massive, but you can still get up close to world-famous pieces like the Mona Lisa. Plus, it’s a great excuse to perfect your “art critic” pose.\n",
       "\n",
       "## Chill in the Latin Quarter\n",
       "\n",
       "Wander through the lively **Latin Quarter** where every corner has something cool to offer. Pop into quirky boutiques, or take a break at a cozy café. Make sure to try some savory crepes or classic French pastries; they're the perfect energy boost for exploring.\n",
       "\n",
       "## Seine Soirées\n",
       "\n",
       "For a laid-back vibe, stroll along the **River Seine**. There’s nothing like watching the world go by from its picturesque banks, or even better, hop on a boat tour for a fresh perspective of the city’s landmarks.\n",
       "\n",
       "## Shop 'Til You Drop\n",
       "\n",
       "Fashion fanatics, rejoice! The **Champs-Élysées** is your go-to destination for trendy stores and epic window-shopping. Whether you're hunting for the latest styles or just enjoying the buzzing atmosphere, this avenue is pure perfection.\n",
       "\n",
       "## Epic Parisian Adventures\n",
       "\n",
       "Paris is where history meets style, and there’s something for everyone. Whether you're exploring, snapping pics, shopping, or just chilling, this vibrant city guarantees a mix of adventure and inspiration that any teenager would love. So, pack your bags, grab your camera, and get ready to make memories that’ll last a lifetime. Paris is waiting!"
      ],
      "text/plain": [
       "<IPython.core.display.Markdown object>"
      ]
     },
     "metadata": {},
     "output_type": "display_data"
    }
   ],
   "source": [
    "display(Markdown(result.final_output.article_text))"
   ]
  },
  {
   "cell_type": "code",
   "execution_count": 36,
   "id": "eade58e4-b2f8-4a27-94f4-9ae821e5387f",
   "metadata": {},
   "outputs": [],
   "source": [
    "result = Runner.run_sync(researcher_agent, \"The destination is Paris, France. The customers are kids.\")"
   ]
  },
  {
   "cell_type": "code",
   "execution_count": 37,
   "id": "6bd85bee-88a5-40ea-b06f-7d47dd3d4257",
   "metadata": {},
   "outputs": [
    {
     "data": {
      "text/markdown": [
       "# Discover the Magic of Paris, France!\n",
       "\n",
       "Hey there, young explorers! Are you ready to travel to a city full of wonders? Let's take an imaginary trip to Paris, France! Grab your berets and croissants, and let’s dive into the magic of this amazing place.\n",
       "\n",
       "## The Eiffel Tower\n",
       "\n",
       "First stop, the **Eiffel Tower**! This giant iron structure is one of the most famous landmarks in the world. Did you know it was built over 130 years ago? You can go all the way to the top and see the entire city from up there. Imagine being a bird flying high above Paris!\n",
       "\n",
       "## Delicious French Treats\n",
       "\n",
       "Paris is also known for its yummy food. Ever heard of **crêpes**? They're like fancy pancakes, and you can fill them with chocolate, fruit, or even cheese and ham. And don’t forget to try a flaky **croissant** for breakfast!\n",
       "\n",
       "## The Artistic Louvre\n",
       "\n",
       "Next, let’s visit the **Louvre Museum**. It's like a castle full of art! There, you can see the famous painting of the **Mona Lisa**. She’s got a mysterious smile that everyone talks about. There are also cool sculptures and ancient treasures. It’s like an adventure through history!\n",
       "\n",
       "## Stroll in the Parks\n",
       "\n",
       "If you love nature, you’ll enjoy the beautiful **Tuileries Garden**. It’s a perfect place for a picnic or a fun game of hide and seek. You can even sail little boats in the pond. How cool is that?\n",
       "\n",
       "## Magical Notre-Dame\n",
       "\n",
       "Finally, let’s take a peek at the **Notre-Dame Cathedral**. This magnificent church has tall towers and colorful stained glass windows. It’s like stepping into a fairy tale!\n",
       "\n",
       "## Final Thoughts\n",
       "\n",
       "Paris is a city of lights, magic, and adventure. Whether you're imagining yourself as an artist, a chef, or a brave explorer, this city has something special for everyone. So, when you dream about traveling to faraway lands, remember that Paris is always ready to welcome you with open arms!\n",
       "\n",
       "Au revoir, young adventurers! Until next time! 🌟🥐🎨"
      ],
      "text/plain": [
       "<IPython.core.display.Markdown object>"
      ]
     },
     "metadata": {},
     "output_type": "display_data"
    }
   ],
   "source": [
    "display(Markdown(result.final_output.article_text))"
   ]
  },
  {
   "cell_type": "code",
   "execution_count": 38,
   "id": "a3c24c3b-0808-4cac-9055-e85799d4e684",
   "metadata": {},
   "outputs": [],
   "source": [
    "from agents.extensions.visualization import draw_graph\n"
   ]
  },
  {
   "cell_type": "code",
   "execution_count": 39,
   "id": "724a0faf-1e28-46e8-af72-27ea6274017a",
   "metadata": {},
   "outputs": [
    {
     "data": {
      "image/svg+xml": [
       "<?xml version=\"1.0\" encoding=\"UTF-8\" standalone=\"no\"?>\n",
       "<!DOCTYPE svg PUBLIC \"-//W3C//DTD SVG 1.1//EN\"\n",
       " \"http://www.w3.org/Graphics/SVG/1.1/DTD/svg11.dtd\">\n",
       "<!-- Generated by graphviz version 12.2.1 (20241206.2353)\n",
       " -->\n",
       "<!-- Title: G Pages: 1 -->\n",
       "<svg width=\"853pt\" height=\"205pt\"\n",
       " viewBox=\"0.00 0.00 853.09 204.78\" xmlns=\"http://www.w3.org/2000/svg\" xmlns:xlink=\"http://www.w3.org/1999/xlink\">\n",
       "<g id=\"graph0\" class=\"graph\" transform=\"scale(1 1) rotate(0) translate(4 200.78)\">\n",
       "<title>G</title>\n",
       "<polygon fill=\"white\" stroke=\"none\" points=\"-4,4 -4,-200.78 849.09,-200.78 849.09,4 -4,4\"/>\n",
       "<!-- __start__ -->\n",
       "<g id=\"node1\" class=\"node\">\n",
       "<title>__start__</title>\n",
       "<ellipse fill=\"lightblue\" stroke=\"black\" cx=\"397.44\" cy=\"-179.98\" rx=\"51.09\" ry=\"16.79\"/>\n",
       "<text text-anchor=\"middle\" x=\"397.44\" y=\"-174.56\" font-family=\"Arial\" font-size=\"14.00\">__start__</text>\n",
       "</g>\n",
       "<!-- Research agent -->\n",
       "<g id=\"node3\" class=\"node\">\n",
       "<title>Research agent</title>\n",
       "<polygon fill=\"lightyellow\" stroke=\"black\" points=\"453.06,-127.19 341.81,-127.19 341.81,-69.59 453.06,-69.59 453.06,-127.19\"/>\n",
       "<text text-anchor=\"middle\" x=\"397.44\" y=\"-92.96\" font-family=\"Arial\" font-size=\"14.00\">Research agent</text>\n",
       "</g>\n",
       "<!-- __start__&#45;&gt;Research agent -->\n",
       "<g id=\"edge1\" class=\"edge\">\n",
       "<title>__start__&#45;&gt;Research agent</title>\n",
       "<path fill=\"none\" stroke=\"black\" stroke-width=\"1.5\" d=\"M397.44,-162.87C397.44,-156.04 397.44,-147.74 397.44,-139.42\"/>\n",
       "<polygon fill=\"black\" stroke=\"black\" stroke-width=\"1.5\" points=\"400.94,-139.66 397.44,-129.66 393.94,-139.66 400.94,-139.66\"/>\n",
       "</g>\n",
       "<!-- __end__ -->\n",
       "<g id=\"node2\" class=\"node\">\n",
       "<title>__end__</title>\n",
       "<ellipse fill=\"lightblue\" stroke=\"black\" cx=\"48.44\" cy=\"-16.79\" rx=\"48.44\" ry=\"16.79\"/>\n",
       "<text text-anchor=\"middle\" x=\"48.44\" y=\"-11.37\" font-family=\"Arial\" font-size=\"14.00\">__end__</text>\n",
       "</g>\n",
       "<!-- Research agent&#45;&gt;__end__ -->\n",
       "<g id=\"edge10\" class=\"edge\">\n",
       "<title>Research agent&#45;&gt;__end__</title>\n",
       "<path fill=\"none\" stroke=\"black\" stroke-width=\"1.5\" d=\"M341.52,-86.13C282.59,-74.04 187.16,-53.82 105.44,-33.59 102.52,-32.86 99.52,-32.1 96.49,-31.31\"/>\n",
       "<polygon fill=\"black\" stroke=\"black\" stroke-width=\"1.5\" points=\"97.61,-27.99 87.04,-28.79 95.8,-34.75 97.61,-27.99\"/>\n",
       "</g>\n",
       "<!-- kids_article_writer -->\n",
       "<g id=\"node4\" class=\"node\">\n",
       "<title>kids_article_writer</title>\n",
       "<ellipse fill=\"lightgreen\" stroke=\"black\" cx=\"202.44\" cy=\"-16.79\" rx=\"87.68\" ry=\"16.79\"/>\n",
       "<text text-anchor=\"middle\" x=\"202.44\" y=\"-11.37\" font-family=\"Arial\" font-size=\"14.00\">kids_article_writer</text>\n",
       "</g>\n",
       "<!-- Research agent&#45;&gt;kids_article_writer -->\n",
       "<g id=\"edge2\" class=\"edge\">\n",
       "<title>Research agent&#45;&gt;kids_article_writer</title>\n",
       "<path fill=\"none\" stroke=\"black\" stroke-width=\"1.5\" stroke-dasharray=\"1,5\" d=\"M341.49,-76.99C310.79,-64.89 273.39,-49.61 245.06,-37.61\"/>\n",
       "<polygon fill=\"black\" stroke=\"black\" stroke-width=\"1.5\" points=\"246.57,-34.45 236,-33.75 243.83,-40.89 246.57,-34.45\"/>\n",
       "</g>\n",
       "<!-- teen_article_writer -->\n",
       "<g id=\"node5\" class=\"node\">\n",
       "<title>teen_article_writer</title>\n",
       "<ellipse fill=\"lightgreen\" stroke=\"black\" cx=\"397.44\" cy=\"-16.79\" rx=\"89.27\" ry=\"16.79\"/>\n",
       "<text text-anchor=\"middle\" x=\"397.44\" y=\"-11.37\" font-family=\"Arial\" font-size=\"14.00\">teen_article_writer</text>\n",
       "</g>\n",
       "<!-- Research agent&#45;&gt;teen_article_writer -->\n",
       "<g id=\"edge4\" class=\"edge\">\n",
       "<title>Research agent&#45;&gt;teen_article_writer</title>\n",
       "<path fill=\"none\" stroke=\"black\" stroke-width=\"1.5\" stroke-dasharray=\"1,5\" d=\"M390.94,-69.1C390.6,-61.64 390.6,-53.58 390.94,-46.11\"/>\n",
       "<polygon fill=\"black\" stroke=\"black\" stroke-width=\"1.5\" points=\"394.43,-46.45 391.71,-36.21 387.45,-45.91 394.43,-46.45\"/>\n",
       "</g>\n",
       "<!-- adult_article_writer -->\n",
       "<g id=\"node6\" class=\"node\">\n",
       "<title>adult_article_writer</title>\n",
       "<ellipse fill=\"lightgreen\" stroke=\"black\" cx=\"596.44\" cy=\"-16.79\" rx=\"91.39\" ry=\"16.79\"/>\n",
       "<text text-anchor=\"middle\" x=\"596.44\" y=\"-11.37\" font-family=\"Arial\" font-size=\"14.00\">adult_article_writer</text>\n",
       "</g>\n",
       "<!-- Research agent&#45;&gt;adult_article_writer -->\n",
       "<g id=\"edge6\" class=\"edge\">\n",
       "<title>Research agent&#45;&gt;adult_article_writer</title>\n",
       "<path fill=\"none\" stroke=\"black\" stroke-width=\"1.5\" stroke-dasharray=\"1,5\" d=\"M453.54,-72.42C481.98,-60.76 516.25,-47.12 544.14,-36.38\"/>\n",
       "<polygon fill=\"black\" stroke=\"black\" stroke-width=\"1.5\" points=\"545.06,-39.78 553.15,-32.94 542.56,-33.24 545.06,-39.78\"/>\n",
       "</g>\n",
       "<!-- format_article -->\n",
       "<g id=\"node7\" class=\"node\">\n",
       "<title>format_article</title>\n",
       "<ellipse fill=\"lightgreen\" stroke=\"black\" cx=\"775.44\" cy=\"-16.79\" rx=\"69.65\" ry=\"16.79\"/>\n",
       "<text text-anchor=\"middle\" x=\"775.44\" y=\"-11.37\" font-family=\"Arial\" font-size=\"14.00\">format_article</text>\n",
       "</g>\n",
       "<!-- Research agent&#45;&gt;format_article -->\n",
       "<g id=\"edge8\" class=\"edge\">\n",
       "<title>Research agent&#45;&gt;format_article</title>\n",
       "<path fill=\"none\" stroke=\"black\" stroke-width=\"1.5\" stroke-dasharray=\"1,5\" d=\"M453.46,-84.51C522.14,-69.59 638.15,-45.17 710.61,-30.37\"/>\n",
       "<polygon fill=\"black\" stroke=\"black\" stroke-width=\"1.5\" points=\"710.97,-33.87 720.07,-28.45 709.57,-27.01 710.97,-33.87\"/>\n",
       "</g>\n",
       "<!-- kids_article_writer&#45;&gt;Research agent -->\n",
       "<g id=\"edge3\" class=\"edge\">\n",
       "<title>kids_article_writer&#45;&gt;Research agent</title>\n",
       "<path fill=\"none\" stroke=\"black\" stroke-width=\"1.5\" stroke-dasharray=\"1,5\" d=\"M242.76,-32.08C268.12,-41.9 301.38,-55.31 330.57,-67.42\"/>\n",
       "<polygon fill=\"black\" stroke=\"black\" stroke-width=\"1.5\" points=\"328.87,-70.5 339.45,-71.11 331.56,-64.04 328.87,-70.5\"/>\n",
       "</g>\n",
       "<!-- teen_article_writer&#45;&gt;Research agent -->\n",
       "<g id=\"edge5\" class=\"edge\">\n",
       "<title>teen_article_writer&#45;&gt;Research agent</title>\n",
       "<path fill=\"none\" stroke=\"black\" stroke-width=\"1.5\" stroke-dasharray=\"1,5\" d=\"M402.99,-33.94C403.77,-40.64 404.16,-48.75 404.19,-56.89\"/>\n",
       "<polygon fill=\"black\" stroke=\"black\" stroke-width=\"1.5\" points=\"400.69,-56.76 403.98,-66.83 407.69,-56.91 400.69,-56.76\"/>\n",
       "</g>\n",
       "<!-- adult_article_writer&#45;&gt;Research agent -->\n",
       "<g id=\"edge7\" class=\"edge\">\n",
       "<title>adult_article_writer&#45;&gt;Research agent</title>\n",
       "<path fill=\"none\" stroke=\"black\" stroke-width=\"1.5\" stroke-dasharray=\"1,5\" d=\"M564.13,-32.89C537.21,-44.22 498.1,-59.97 464.5,-73.07\"/>\n",
       "<polygon fill=\"black\" stroke=\"black\" stroke-width=\"1.5\" points=\"463.51,-69.7 455.46,-76.58 466.04,-76.23 463.51,-69.7\"/>\n",
       "</g>\n",
       "<!-- format_article&#45;&gt;Research agent -->\n",
       "<g id=\"edge9\" class=\"edge\">\n",
       "<title>format_article&#45;&gt;Research agent</title>\n",
       "<path fill=\"none\" stroke=\"black\" stroke-width=\"1.5\" stroke-dasharray=\"1,5\" d=\"M726.5,-29.13C659.75,-43.69 540.08,-68.9 464.88,-84.27\"/>\n",
       "<polygon fill=\"black\" stroke=\"black\" stroke-width=\"1.5\" points=\"464.53,-80.77 455.43,-86.2 465.93,-87.63 464.53,-80.77\"/>\n",
       "</g>\n",
       "</g>\n",
       "</svg>\n"
      ],
      "text/plain": [
       "<graphviz.sources.Source at 0x229858f7550>"
      ]
     },
     "execution_count": 39,
     "metadata": {},
     "output_type": "execute_result"
    }
   ],
   "source": [
    "draw_graph(researcher_agent)"
   ]
  }
 ],
 "metadata": {
  "kernelspec": {
   "display_name": "Python 3 (ipykernel)",
   "language": "python",
   "name": "python3"
  },
  "language_info": {
   "codemirror_mode": {
    "name": "ipython",
    "version": 3
   },
   "file_extension": ".py",
   "mimetype": "text/x-python",
   "name": "python",
   "nbconvert_exporter": "python",
   "pygments_lexer": "ipython3",
   "version": "3.11.11"
  }
 },
 "nbformat": 4,
 "nbformat_minor": 5
}
