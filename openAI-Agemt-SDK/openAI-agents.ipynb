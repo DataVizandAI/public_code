{
 "cells": [
  {
   "cell_type": "code",
   "execution_count": 28,
   "id": "6f1561e5-caec-4c3b-ad7f-6aebf0c736b2",
   "metadata": {},
   "outputs": [],
   "source": [
    "import nest_asyncio\n",
    "nest_asyncio.apply()"
   ]
  },
  {
   "cell_type": "markdown",
   "id": "19acc212-76ce-4c58-8877-c50c188e8116",
   "metadata": {},
   "source": [
    "# Hello Paris\n",
    "A single request to the LLM gives the right answer"
   ]
  },
  {
   "cell_type": "code",
   "execution_count": 30,
   "id": "713d9ca3-ddd4-42b9-a2a9-e6fe53bb8660",
   "metadata": {},
   "outputs": [
    {
     "name": "stdout",
     "output_type": "stream",
     "text": [
      "Paris, the capital of France, is renowned for its rich history, art, and culture. The iconic Eiffel Tower dominates its skyline, while the Louvre houses masterpieces like the Mona Lisa. Known as the \"City of Light,\" Paris boasts stunning architecture, including Notre-Dame and the Arc de Triomphe. Its café culture is legendary, with charming streets lined with boulangeries and boutiques. The Seine River weaves through the city, enhancing its romantic allure. Paris is a hub of fashion, philosophy, and gastronomy, offering exquisite cuisine from patisseries to haute cuisine. A global symbol of elegance and creativity, Paris captivates millions annually.\n"
     ]
    }
   ],
   "source": [
    "from agents import Agent, Runner\n",
    "\n",
    "agent = Agent(name=\"Assistant\", instructions=\"You are a helpful assistant\")\n",
    "\n",
    "result = Runner.run_sync(agent, \"Tell something about Paris, France, in 100 words\")\n",
    "print(result.final_output)"
   ]
  },
  {
   "cell_type": "markdown",
   "id": "1afae27a-88f3-4ba5-b52c-73280dd683b3",
   "metadata": {},
   "source": [
    "# Wikipedia lookup\n",
    "Using a tool\n",
    "\n",
    "The initial query is sent to the LLM, which responds with a query for the tool. The tool is invoked, the response is sent back to the LLM, and the LLM response gives the correct answer"
   ]
  },
  {
   "cell_type": "code",
   "execution_count": 29,
   "id": "83e7f26d-1577-4972-8b21-f784d8cb7491",
   "metadata": {},
   "outputs": [
    {
     "name": "stdout",
     "output_type": "stream",
     "text": [
      "The Eiffel Tower in Paris stands 330 metres (1,083 feet) tall from its base to the tip of its highest antenna.\n"
     ]
    }
   ],
   "source": [
    "from agents import Agent, Runner, function_tool\n",
    "from agents.extensions.handoff_prompt import RECOMMENDED_PROMPT_PREFIX\n",
    "import wikipedia\n",
    "\n",
    "@function_tool\n",
    "def wikipedia_lookup(q: str) -> str:\n",
    "    \"\"\"Look up a query in Wikipedia and return the result\"\"\"\n",
    "    return wikipedia.page(q).summary\n",
    "\n",
    "research_agent = Agent(\n",
    "    name=\"Research agent\",\n",
    "    instructions=\"You research topics using Wikipedia and report on the results.\",\n",
    "    model=\"o4-mini\",\n",
    "    tools=[wikipedia_lookup],\n",
    ")\n",
    "\n",
    "result = Runner.run_sync(research_agent, \"What is the height of the famous tower in Paris, France?\")\n",
    "print(result.final_output)"
   ]
  },
  {
   "cell_type": "markdown",
   "id": "20d101d0-4008-4749-856d-c26fd7379dd2",
   "metadata": {},
   "source": [
    "# Essays for kids\n",
    "a multi-agent app with manual hand off\n",
    "\n",
    "The initial prompt is given to the Research agent which responds with an essay. The output of the Research agent is fed to the Writer agent as its input. The Writer agent takes the output of the first agent and writes the modified version."
   ]
  },
  {
   "cell_type": "code",
   "execution_count": 31,
   "id": "1a71e660-f706-40e8-a8af-035dea8702d5",
   "metadata": {},
   "outputs": [
    {
     "name": "stdout",
     "output_type": "stream",
     "text": [
      "Hey adventurers! Let's dive into the magical world of Paris, the capital city of France, where everything feels like a fantastic adventure! 🌟\n",
      "\n",
      "Welcome to \"The City of Light,\" where stories come alive and dreams take flight! Maybe you’ve heard of the dazzling Eiffel Tower? It's like a giant shining rocket reaching for the sky, and it's a super cool place to start our journey!\n",
      "\n",
      "Next, we're off to the grand Notre-Dame Cathedral. Imagine a castle where knights and princesses might have lived—it's full of mystery and exciting tales! And then, there's the Palace of Versailles, which looks like it could be a king’s royal playground!\n",
      "\n",
      "For all you art explorers, Paris is a treasure chest! The Louvre, a gigantic museum, is like a magical time-travel machine. You can see famous paintings like the mystifying Mona Lisa. And in the dreamy streets of Montmartre, artists like Picasso and Van Gogh once painted masterpieces!\n",
      "\n",
      "Feeling hungry? Paris is a foodie’s paradise! From tiny cafés where you can munch on croissants to fancy restaurants offering yummy French treats, there’s something for everyone.\n",
      "\n",
      "If you love fashion, explore the Champs-Élysées and find stylish outfits that make you feel like a fashion superstar!\n",
      "\n",
      "Paris is full of lively cafés, colorful markets, and exciting events like Paris Fashion Week! The city buzzes with energy, mixing old traditions with new, fun ideas.\n",
      "\n",
      "So pack your bags and join the adventure—Paris awaits with its endless wonders and fantastic fun! 🗼🎨🍰\n"
     ]
    }
   ],
   "source": [
    "from agents import Agent, Runner, function_tool, handoff\n",
    "from agents.extensions.handoff_prompt import RECOMMENDED_PROMPT_PREFIX # Not used\n",
    "\n",
    "\n",
    "writer_agent = Agent(\n",
    "    name=\"Writer agent\",\n",
    "    instructions=f\"\"\"\n",
    "                    Re-write the article so that it is suitable for kids aged around 8. \n",
    "                    Be enthusiastic about the topic - everything is an adventure! \n",
    "                    \"\"\",\n",
    "    model=\"gpt-4o\",\n",
    ")\n",
    "\n",
    "researcher_agent = Agent(\n",
    "    name=\"Research agent\",\n",
    "    instructions=f\"\"\"\n",
    "                    You research topics and report on the results. \"\"\",\n",
    "    \n",
    "    model=\"gpt-4o\",\n",
    ")\n",
    "\n",
    "result = Runner.run_sync(researcher_agent, \"Write an essay about the capital city of France of no more than 200 words\")\n",
    "result2 = Runner.run_sync(writer_agent, result.final_output)\n",
    "print(result2.final_output)"
   ]
  },
  {
   "cell_type": "markdown",
   "id": "e5bc081f-433b-48b6-8911-d5a421099a04",
   "metadata": {},
   "source": [
    "# Essays for kids 2\n",
    "Multiple agents with automatic handoff\n",
    "\n",
    "The initial prompt is given to the Research agent which responds with an essay. The Research agent hands off to the Writer agent with all of the LLM context. The Writer agent takes the output of the first agent, along with the instructions and writes the modified version."
   ]
  },
  {
   "cell_type": "code",
   "execution_count": 34,
   "id": "297fa567-9f94-4e27-842b-467fa840de9f",
   "metadata": {},
   "outputs": [
    {
     "name": "stdout",
     "output_type": "stream",
     "text": [
      "Hey kids, get ready for an adventure to a super cool place: the capital city of France, Paris! 🎉\n",
      "\n",
      "Paris is famous for a big tower called the Eiffel Tower. It's like a giant superhero watching over the city! You can ride an elevator to the top and see the whole city. Imagine what it’s like to be that high up!\n",
      "\n",
      "Paris is also home to the magical museum, the Louvre. It’s filled with amazing art, like a treasure chest of paintings and sculptures. And guess what? The famous Mona Lisa lives there! Her smile is a mystery waiting for you to solve.\n",
      "\n",
      "If you love delicious treats, Paris is a wonderland. Try a sweet crepe or a crunchy baguette. Yum! 🍰\n",
      "\n",
      "The city has cool streets called boulevards where you can go on fun walks and see pretty parks. You might even spot people painting or playing music. How awesome is that?\n",
      "\n",
      "Paris is like a giant playground with so many things to explore. So, pack your bags in your imagination and get ready for an exciting journey to this amazing city! 🌟\n"
     ]
    }
   ],
   "source": [
    "from agents import Agent, Runner, function_tool, handoff\n",
    "from agents.extensions.handoff_prompt import RECOMMENDED_PROMPT_PREFIX\n",
    "\n",
    "writer_agent = Agent(\n",
    "    name=\"Writer agent\",\n",
    "    instructions=f\"\"\"\n",
    "                    Re-write the article so that it is suitable for kids aged around 8. \n",
    "                    Be enthusiastic about the topic - everything is an adventure! \n",
    "                    \"\"\",\n",
    "    model=\"gpt-4o\",\n",
    ")\n",
    "\n",
    "researcher_agent = Agent(\n",
    "    name=\"Research agent\",\n",
    "    instructions=f\"\"\"\n",
    "                    You research topics and report on the results. \n",
    "                    When you have a result send it to the Writer agent\"\"\",\n",
    "    \n",
    "    model=\"gpt-4o\",\n",
    "    handoffs = [writer_agent]\n",
    ")\n",
    "\n",
    "\n",
    "\n",
    "result = Runner.run_sync(researcher_agent, \"Write an essay about the capital city of France of no more than 200 words\")\n",
    "print(result.final_output)\n"
   ]
  },
  {
   "cell_type": "markdown",
   "id": "5bf0716c-5eea-4040-bf25-d24a6ea57960",
   "metadata": {},
   "source": [
    "# Essays for kids, teenagers or adults\n",
    "Auto handoffs with agent decision making"
   ]
  },
  {
   "cell_type": "code",
   "execution_count": 35,
   "id": "bf9473fc-af08-4ead-9b96-5e75e1a808b9",
   "metadata": {},
   "outputs": [],
   "source": [
    "from agents import Agent, Runner, function_tool, handoff\n",
    "from agents.extensions.handoff_prompt import RECOMMENDED_PROMPT_PREFIX\n",
    "\n",
    "adult_writer_agent = Agent(\n",
    "    name=\"Adult Writer Agent\",\n",
    "    instructions=f\"\"\"\n",
    "                    Write the article based on the information given that it is suitable for adults interested in culture. \n",
    "                    Be enthusiastic!\n",
    "                    \"\"\", \n",
    "    model=\"gpt-4o\",\n",
    ")\n",
    "\n",
    "\n",
    "\n",
    "teen_writer_agent = Agent(\n",
    "    name=\"Teen Writer Agent\",\n",
    "    instructions=f\"\"\"\n",
    "                    Write the article based on the information given that it is suitable for teenagers who want to have a cool time. \n",
    "                    Be enthusiastic!\n",
    "                    \"\"\", \n",
    "    model=\"gpt-4o\",\n",
    ")\n",
    "\n",
    "kid_writer_agent = Agent(\n",
    "    name=\"Kid Writer Agent\",\n",
    "    instructions=f\"\"\"\n",
    "                    Write the article based on the information given that it is suitable for kids of around 8 years old. \n",
    "                    Be enthusiastic!\n",
    "                    \"\"\", \n",
    "    model=\"gpt-4o\",\n",
    ")\n",
    "\n",
    "\n",
    "researcher_agent = Agent(\n",
    "    name=\"Research agent\",\n",
    "    instructions=f\"\"\"\n",
    "                    Find information on the topic(s) given. When you have a result send it to the appropriate writer agent\"\"\",\n",
    "    \n",
    "    model=\"gpt-4o\",\n",
    "    handoffs = [kid_writer_agent, teen_writer_agent, adult_writer_agent]\n",
    ")\n"
   ]
  },
  {
   "cell_type": "code",
   "execution_count": 36,
   "id": "741dac2e-b170-41a1-b8e7-3b13e9d1fc88",
   "metadata": {},
   "outputs": [
    {
     "name": "stdout",
     "output_type": "stream",
     "text": [
      "Hey kids! Let me tell you about Paris, the awesome capital city of France. 🌟\n",
      "\n",
      "Paris is known as the \"City of Light\" because it was one of the first cities in the world to have street lights. It's a magical place full of fun and exciting things to see!\n",
      "\n",
      "One of the coolest things in Paris is the Eiffel Tower. It's a huge tower made of iron, and you can go all the way to the top to see an amazing view of the city! 🗼\n",
      "\n",
      "Paris is also famous for its delicious bread called baguettes and yummy pastries like croissants. 🍞🥐 Imagine starting your day with a tasty croissant in a cozy café.\n",
      "\n",
      "If you love art, the Louvre Museum is the place to be! It's home to the Mona Lisa, one of the most famous paintings in the world. 🎨\n",
      "\n",
      "The city is filled with beautiful parks where you can play and enjoy picnics. Don't forget the river Seine, where you can take a boat ride!\n",
      "\n",
      "Paris is a place where adventures come alive, and there’s always something new to discover. So pack your bags and get ready for an unforgettable journey! 🌍✨\n"
     ]
    }
   ],
   "source": [
    "result = Runner.run_sync(researcher_agent, \"Write an essay about the capital city of France of no more than 200 words for kids\")\n",
    "print(result.final_output)"
   ]
  },
  {
   "cell_type": "code",
   "execution_count": 17,
   "id": "53f98468-dd4a-4312-b611-cc82289f6e56",
   "metadata": {},
   "outputs": [
    {
     "name": "stdout",
     "output_type": "stream",
     "text": [
      "Hey there, future world travelers! 🌟 Ready to explore a city that’s the epitome of cool? Let’s dive into the vibrant vibe of Paris, the heart of France!\n",
      "\n",
      "Paris isn’t just a city; it’s a whole mood. Picture yourself strolling down the Champs-Élysées with its epic shops and cafés, or snapping pics at the Eiffel Tower (selfie game strong!). For all you art lovers, the Louvre awaits with Mona Lisa’s mysterious smile. 🎨🖼️\n",
      "\n",
      "Feeling adventurous? How about a boat ride on the Seine River where the best views will have you saying “Ooh la la!” Get lost in Le Marais, a district bursting with quirky stores and tasty treats. And speaking of treats, don’t miss a chance to devour a crepe or a macaron!\n",
      "\n",
      "Paris is also a music and fashion hub. Catch some street performers or dive into vintage shops and find yourself a one-of-a-kind piece. 🎶👗\n",
      "\n",
      "Whether you’re a foodie, a history buff, or a fashionista, Paris has something cool for every teen explorer. So grab your backpack and your sense of adventure; the City of Light is calling! 💫🗼\n"
     ]
    }
   ],
   "source": [
    "result = Runner.run_sync(researcher_agent, \"Write an essay about the capital city of France of no more than 200 words for teenagers\")\n",
    "print(result.final_output)"
   ]
  },
  {
   "cell_type": "code",
   "execution_count": 18,
   "id": "3963efd1-1ba5-49c9-9a3e-f2a33e76f679",
   "metadata": {},
   "outputs": [
    {
     "name": "stdout",
     "output_type": "stream",
     "text": [
      "Paris, the radiant capital of France, is a cultural mecca that has magnetized dreamers, artists, and intellectuals for centuries. With its enchanting blend of historical grandeur and modern vibrancy, Paris stands as a testament to human creativity and resilience.\n",
      "\n",
      "Wander through the cobblestone streets and you'll be swept away by iconic landmarks such as the majestic Eiffel Tower, the Gothic splendor of Notre-Dame Cathedral, and the artistic treasures housed in the Louvre Museum. Each corner of this city tells a story, from the charming Marais district with its medieval echoes to the bohemian flair of Montmartre, where artists like Picasso once roamed.\n",
      "\n",
      "Parisian cafes buzz with energy, offering a rich tapestry of flavors, where leisurely sips of espresso and bites of buttery croissants become cultural rituals. Moreover, the Seine River gently wends through the city, providing serene views and romantic boat rides, epitomizing the allure of Parisian life.\n",
      "\n",
      "Whether it's fashion, art, history, or cuisine that captivates you, Paris has an irresistible charm that calls you to explore and experience its wonders. Embrace the joie de vivre that defines this extraordinary city, where every visit leaves an indelible mark on the soul. Paris is not just a city—it's an inspiration!\n"
     ]
    }
   ],
   "source": [
    "result = Runner.run_sync(researcher_agent, \"Write an essay about the capital city of France of no more than 200 words for adults\")\n",
    "print(result.final_output)"
   ]
  },
  {
   "cell_type": "code",
   "execution_count": 27,
   "id": "39836c74-5acc-46ea-8ef4-ba4d37e2d4b8",
   "metadata": {},
   "outputs": [
    {
     "data": {
      "image/svg+xml": [
       "<?xml version=\"1.0\" encoding=\"UTF-8\" standalone=\"no\"?>\n",
       "<!DOCTYPE svg PUBLIC \"-//W3C//DTD SVG 1.1//EN\"\n",
       " \"http://www.w3.org/Graphics/SVG/1.1/DTD/svg11.dtd\">\n",
       "<!-- Generated by graphviz version 12.2.1 (20241206.2353)\n",
       " -->\n",
       "<!-- Title: G Pages: 1 -->\n",
       "<svg width=\"116pt\" height=\"205pt\"\n",
       " viewBox=\"0.00 0.00 116.00 204.78\" xmlns=\"http://www.w3.org/2000/svg\" xmlns:xlink=\"http://www.w3.org/1999/xlink\">\n",
       "<g id=\"graph0\" class=\"graph\" transform=\"scale(1 1) rotate(0) translate(4 200.78)\">\n",
       "<title>G</title>\n",
       "<polygon fill=\"white\" stroke=\"none\" points=\"-4,4 -4,-200.78 112,-200.78 112,4 -4,4\"/>\n",
       "<!-- __start__ -->\n",
       "<g id=\"node1\" class=\"node\">\n",
       "<title>__start__</title>\n",
       "<ellipse fill=\"lightblue\" stroke=\"black\" cx=\"54\" cy=\"-179.98\" rx=\"51.09\" ry=\"16.79\"/>\n",
       "<text text-anchor=\"middle\" x=\"54\" y=\"-174.56\" font-family=\"Arial\" font-size=\"14.00\">__start__</text>\n",
       "</g>\n",
       "<!-- Assistant -->\n",
       "<g id=\"node3\" class=\"node\">\n",
       "<title>Assistant</title>\n",
       "<polygon fill=\"lightyellow\" stroke=\"black\" points=\"108,-127.19 0,-127.19 0,-69.59 108,-69.59 108,-127.19\"/>\n",
       "<text text-anchor=\"middle\" x=\"54\" y=\"-92.96\" font-family=\"Arial\" font-size=\"14.00\">Assistant</text>\n",
       "</g>\n",
       "<!-- __start__&#45;&gt;Assistant -->\n",
       "<g id=\"edge1\" class=\"edge\">\n",
       "<title>__start__&#45;&gt;Assistant</title>\n",
       "<path fill=\"none\" stroke=\"black\" stroke-width=\"1.5\" d=\"M54,-162.87C54,-156.04 54,-147.74 54,-139.42\"/>\n",
       "<polygon fill=\"black\" stroke=\"black\" stroke-width=\"1.5\" points=\"57.5,-139.66 54,-129.66 50.5,-139.66 57.5,-139.66\"/>\n",
       "</g>\n",
       "<!-- __end__ -->\n",
       "<g id=\"node2\" class=\"node\">\n",
       "<title>__end__</title>\n",
       "<ellipse fill=\"lightblue\" stroke=\"black\" cx=\"54\" cy=\"-16.79\" rx=\"48.44\" ry=\"16.79\"/>\n",
       "<text text-anchor=\"middle\" x=\"54\" y=\"-11.37\" font-family=\"Arial\" font-size=\"14.00\">__end__</text>\n",
       "</g>\n",
       "<!-- Assistant&#45;&gt;__end__ -->\n",
       "<g id=\"edge2\" class=\"edge\">\n",
       "<title>Assistant&#45;&gt;__end__</title>\n",
       "<path fill=\"none\" stroke=\"black\" stroke-width=\"1.5\" d=\"M54,-69.1C54,-61.64 54,-53.58 54,-46.11\"/>\n",
       "<polygon fill=\"black\" stroke=\"black\" stroke-width=\"1.5\" points=\"57.5,-46.21 54,-36.21 50.5,-46.21 57.5,-46.21\"/>\n",
       "</g>\n",
       "</g>\n",
       "</svg>\n"
      ],
      "text/plain": [
       "<graphviz.sources.Source at 0x23d4a6680d0>"
      ]
     },
     "execution_count": 27,
     "metadata": {},
     "output_type": "execute_result"
    }
   ],
   "source": [
    "from agents.extensions.visualization import draw_graph\n",
    "draw_graph(agent)"
   ]
  },
  {
   "cell_type": "code",
   "execution_count": 26,
   "id": "250bba73-0341-43c7-a639-2a4926ee9fe5",
   "metadata": {},
   "outputs": [
    {
     "data": {
      "image/svg+xml": [
       "<?xml version=\"1.0\" encoding=\"UTF-8\" standalone=\"no\"?>\n",
       "<!DOCTYPE svg PUBLIC \"-//W3C//DTD SVG 1.1//EN\"\n",
       " \"http://www.w3.org/Graphics/SVG/1.1/DTD/svg11.dtd\">\n",
       "<!-- Generated by graphviz version 12.2.1 (20241206.2353)\n",
       " -->\n",
       "<!-- Title: G Pages: 1 -->\n",
       "<svg width=\"290pt\" height=\"205pt\"\n",
       " viewBox=\"0.00 0.00 290.41 204.78\" xmlns=\"http://www.w3.org/2000/svg\" xmlns:xlink=\"http://www.w3.org/1999/xlink\">\n",
       "<g id=\"graph0\" class=\"graph\" transform=\"scale(1 1) rotate(0) translate(4 200.78)\">\n",
       "<title>G</title>\n",
       "<polygon fill=\"white\" stroke=\"none\" points=\"-4,4 -4,-200.78 286.41,-200.78 286.41,4 -4,4\"/>\n",
       "<!-- __start__ -->\n",
       "<g id=\"node1\" class=\"node\">\n",
       "<title>__start__</title>\n",
       "<ellipse fill=\"lightblue\" stroke=\"black\" cx=\"198.44\" cy=\"-179.98\" rx=\"51.09\" ry=\"16.79\"/>\n",
       "<text text-anchor=\"middle\" x=\"198.44\" y=\"-174.56\" font-family=\"Arial\" font-size=\"14.00\">__start__</text>\n",
       "</g>\n",
       "<!-- Research agent -->\n",
       "<g id=\"node3\" class=\"node\">\n",
       "<title>Research agent</title>\n",
       "<polygon fill=\"lightyellow\" stroke=\"black\" points=\"254.06,-127.19 142.81,-127.19 142.81,-69.59 254.06,-69.59 254.06,-127.19\"/>\n",
       "<text text-anchor=\"middle\" x=\"198.44\" y=\"-92.96\" font-family=\"Arial\" font-size=\"14.00\">Research agent</text>\n",
       "</g>\n",
       "<!-- __start__&#45;&gt;Research agent -->\n",
       "<g id=\"edge1\" class=\"edge\">\n",
       "<title>__start__&#45;&gt;Research agent</title>\n",
       "<path fill=\"none\" stroke=\"black\" stroke-width=\"1.5\" d=\"M198.44,-162.87C198.44,-156.04 198.44,-147.74 198.44,-139.42\"/>\n",
       "<polygon fill=\"black\" stroke=\"black\" stroke-width=\"1.5\" points=\"201.94,-139.66 198.44,-129.66 194.94,-139.66 201.94,-139.66\"/>\n",
       "</g>\n",
       "<!-- __end__ -->\n",
       "<g id=\"node2\" class=\"node\">\n",
       "<title>__end__</title>\n",
       "<ellipse fill=\"lightblue\" stroke=\"black\" cx=\"48.44\" cy=\"-16.79\" rx=\"48.44\" ry=\"16.79\"/>\n",
       "<text text-anchor=\"middle\" x=\"48.44\" y=\"-11.37\" font-family=\"Arial\" font-size=\"14.00\">__end__</text>\n",
       "</g>\n",
       "<!-- Research agent&#45;&gt;__end__ -->\n",
       "<g id=\"edge4\" class=\"edge\">\n",
       "<title>Research agent&#45;&gt;__end__</title>\n",
       "<path fill=\"none\" stroke=\"black\" stroke-width=\"1.5\" d=\"M145.13,-69.1C125.05,-58.44 102.69,-46.58 84.54,-36.95\"/>\n",
       "<polygon fill=\"black\" stroke=\"black\" stroke-width=\"1.5\" points=\"86.32,-33.93 75.85,-32.34 83.04,-40.12 86.32,-33.93\"/>\n",
       "</g>\n",
       "<!-- wikipedia_lookup -->\n",
       "<g id=\"node4\" class=\"node\">\n",
       "<title>wikipedia_lookup</title>\n",
       "<ellipse fill=\"lightgreen\" stroke=\"black\" cx=\"198.44\" cy=\"-16.79\" rx=\"83.97\" ry=\"16.79\"/>\n",
       "<text text-anchor=\"middle\" x=\"198.44\" y=\"-11.37\" font-family=\"Arial\" font-size=\"14.00\">wikipedia_lookup</text>\n",
       "</g>\n",
       "<!-- Research agent&#45;&gt;wikipedia_lookup -->\n",
       "<g id=\"edge2\" class=\"edge\">\n",
       "<title>Research agent&#45;&gt;wikipedia_lookup</title>\n",
       "<path fill=\"none\" stroke=\"black\" stroke-width=\"1.5\" stroke-dasharray=\"1,5\" d=\"M191.94,-69.1C191.6,-61.64 191.6,-53.58 191.94,-46.11\"/>\n",
       "<polygon fill=\"black\" stroke=\"black\" stroke-width=\"1.5\" points=\"195.43,-46.45 192.71,-36.21 188.45,-45.91 195.43,-46.45\"/>\n",
       "</g>\n",
       "<!-- wikipedia_lookup&#45;&gt;Research agent -->\n",
       "<g id=\"edge3\" class=\"edge\">\n",
       "<title>wikipedia_lookup&#45;&gt;Research agent</title>\n",
       "<path fill=\"none\" stroke=\"black\" stroke-width=\"1.5\" stroke-dasharray=\"1,5\" d=\"M203.99,-33.94C204.77,-40.64 205.16,-48.75 205.19,-56.89\"/>\n",
       "<polygon fill=\"black\" stroke=\"black\" stroke-width=\"1.5\" points=\"201.69,-56.76 204.98,-66.83 208.69,-56.91 201.69,-56.76\"/>\n",
       "</g>\n",
       "</g>\n",
       "</svg>\n"
      ],
      "text/plain": [
       "<graphviz.sources.Source at 0x23d4a690fd0>"
      ]
     },
     "execution_count": 26,
     "metadata": {},
     "output_type": "execute_result"
    }
   ],
   "source": [
    "draw_graph(research_agent)"
   ]
  },
  {
   "cell_type": "code",
   "execution_count": 23,
   "id": "9d5b3cd6-9feb-4760-94aa-e56f240f00b2",
   "metadata": {},
   "outputs": [
    {
     "data": {
      "image/svg+xml": [
       "<?xml version=\"1.0\" encoding=\"UTF-8\" standalone=\"no\"?>\n",
       "<!DOCTYPE svg PUBLIC \"-//W3C//DTD SVG 1.1//EN\"\n",
       " \"http://www.w3.org/Graphics/SVG/1.1/DTD/svg11.dtd\">\n",
       "<!-- Generated by graphviz version 12.2.1 (20241206.2353)\n",
       " -->\n",
       "<!-- Title: G Pages: 1 -->\n",
       "<svg width=\"394pt\" height=\"205pt\"\n",
       " viewBox=\"0.00 0.00 394.09 204.78\" xmlns=\"http://www.w3.org/2000/svg\" xmlns:xlink=\"http://www.w3.org/1999/xlink\">\n",
       "<g id=\"graph0\" class=\"graph\" transform=\"scale(1 1) rotate(0) translate(4 200.78)\">\n",
       "<title>G</title>\n",
       "<polygon fill=\"white\" stroke=\"none\" points=\"-4,4 -4,-200.78 390.09,-200.78 390.09,4 -4,4\"/>\n",
       "<!-- __start__ -->\n",
       "<g id=\"node1\" class=\"node\">\n",
       "<title>__start__</title>\n",
       "<ellipse fill=\"lightblue\" stroke=\"black\" cx=\"171.44\" cy=\"-179.98\" rx=\"51.09\" ry=\"16.79\"/>\n",
       "<text text-anchor=\"middle\" x=\"171.44\" y=\"-174.56\" font-family=\"Arial\" font-size=\"14.00\">__start__</text>\n",
       "</g>\n",
       "<!-- orchestrator_agent -->\n",
       "<g id=\"node3\" class=\"node\">\n",
       "<title>orchestrator_agent</title>\n",
       "<polygon fill=\"lightyellow\" stroke=\"black\" points=\"236.06,-127.19 106.81,-127.19 106.81,-69.59 236.06,-69.59 236.06,-127.19\"/>\n",
       "<text text-anchor=\"middle\" x=\"171.44\" y=\"-92.96\" font-family=\"Arial\" font-size=\"14.00\">orchestrator_agent</text>\n",
       "</g>\n",
       "<!-- __start__&#45;&gt;orchestrator_agent -->\n",
       "<g id=\"edge1\" class=\"edge\">\n",
       "<title>__start__&#45;&gt;orchestrator_agent</title>\n",
       "<path fill=\"none\" stroke=\"black\" stroke-width=\"1.5\" d=\"M171.44,-162.87C171.44,-156.04 171.44,-147.74 171.44,-139.42\"/>\n",
       "<polygon fill=\"black\" stroke=\"black\" stroke-width=\"1.5\" points=\"174.94,-139.66 171.44,-129.66 167.94,-139.66 174.94,-139.66\"/>\n",
       "</g>\n",
       "<!-- __end__ -->\n",
       "<g id=\"node2\" class=\"node\">\n",
       "<title>__end__</title>\n",
       "<ellipse fill=\"lightblue\" stroke=\"black\" cx=\"48.44\" cy=\"-16.79\" rx=\"48.44\" ry=\"16.79\"/>\n",
       "<text text-anchor=\"middle\" x=\"48.44\" y=\"-11.37\" font-family=\"Arial\" font-size=\"14.00\">__end__</text>\n",
       "</g>\n",
       "<!-- orchestrator_agent&#45;&gt;__end__ -->\n",
       "<g id=\"edge6\" class=\"edge\">\n",
       "<title>orchestrator_agent&#45;&gt;__end__</title>\n",
       "<path fill=\"none\" stroke=\"black\" stroke-width=\"1.5\" d=\"M127.73,-69.1C112.17,-59.03 94.95,-47.89 80.54,-38.57\"/>\n",
       "<polygon fill=\"black\" stroke=\"black\" stroke-width=\"1.5\" points=\"82.82,-35.87 72.52,-33.38 79.01,-41.75 82.82,-35.87\"/>\n",
       "</g>\n",
       "<!-- researcher -->\n",
       "<g id=\"node4\" class=\"node\">\n",
       "<title>researcher</title>\n",
       "<ellipse fill=\"lightgreen\" stroke=\"black\" cx=\"171.44\" cy=\"-16.79\" rx=\"56.92\" ry=\"16.79\"/>\n",
       "<text text-anchor=\"middle\" x=\"171.44\" y=\"-11.37\" font-family=\"Arial\" font-size=\"14.00\">researcher</text>\n",
       "</g>\n",
       "<!-- orchestrator_agent&#45;&gt;researcher -->\n",
       "<g id=\"edge2\" class=\"edge\">\n",
       "<title>orchestrator_agent&#45;&gt;researcher</title>\n",
       "<path fill=\"none\" stroke=\"black\" stroke-width=\"1.5\" stroke-dasharray=\"1,5\" d=\"M164.94,-69.1C164.6,-61.64 164.6,-53.58 164.94,-46.11\"/>\n",
       "<polygon fill=\"black\" stroke=\"black\" stroke-width=\"1.5\" points=\"168.43,-46.45 165.71,-36.21 161.45,-45.91 168.43,-46.45\"/>\n",
       "</g>\n",
       "<!-- format_article -->\n",
       "<g id=\"node5\" class=\"node\">\n",
       "<title>format_article</title>\n",
       "<ellipse fill=\"lightgreen\" stroke=\"black\" cx=\"316.44\" cy=\"-16.79\" rx=\"69.65\" ry=\"16.79\"/>\n",
       "<text text-anchor=\"middle\" x=\"316.44\" y=\"-11.37\" font-family=\"Arial\" font-size=\"14.00\">format_article</text>\n",
       "</g>\n",
       "<!-- orchestrator_agent&#45;&gt;format_article -->\n",
       "<g id=\"edge4\" class=\"edge\">\n",
       "<title>orchestrator_agent&#45;&gt;format_article</title>\n",
       "<path fill=\"none\" stroke=\"black\" stroke-width=\"1.5\" stroke-dasharray=\"1,5\" d=\"M216.47,-69.1C234.87,-58.74 256.01,-47.24 274.12,-37.76\"/>\n",
       "<polygon fill=\"black\" stroke=\"black\" stroke-width=\"1.5\" points=\"275.68,-40.9 282.95,-33.19 272.46,-34.68 275.68,-40.9\"/>\n",
       "</g>\n",
       "<!-- researcher&#45;&gt;orchestrator_agent -->\n",
       "<g id=\"edge3\" class=\"edge\">\n",
       "<title>researcher&#45;&gt;orchestrator_agent</title>\n",
       "<path fill=\"none\" stroke=\"black\" stroke-width=\"1.5\" stroke-dasharray=\"1,5\" d=\"M176.99,-33.94C177.77,-40.64 178.16,-48.75 178.19,-56.89\"/>\n",
       "<polygon fill=\"black\" stroke=\"black\" stroke-width=\"1.5\" points=\"174.69,-56.76 177.98,-66.83 181.69,-56.91 174.69,-56.76\"/>\n",
       "</g>\n",
       "<!-- format_article&#45;&gt;orchestrator_agent -->\n",
       "<g id=\"edge5\" class=\"edge\">\n",
       "<title>format_article&#45;&gt;orchestrator_agent</title>\n",
       "<path fill=\"none\" stroke=\"black\" stroke-width=\"1.5\" stroke-dasharray=\"1,5\" d=\"M294.12,-33.03C279.51,-41.63 259.68,-52.75 240.21,-63.31\"/>\n",
       "<polygon fill=\"black\" stroke=\"black\" stroke-width=\"1.5\" points=\"238.6,-60.2 231.46,-68.02 241.92,-66.36 238.6,-60.2\"/>\n",
       "</g>\n",
       "</g>\n",
       "</svg>\n"
      ],
      "text/plain": [
       "<graphviz.sources.Source at 0x23d48b3e710>"
      ]
     },
     "execution_count": 23,
     "metadata": {},
     "output_type": "execute_result"
    }
   ],
   "source": [
    "draw_graph(orchestrator_agent)"
   ]
  },
  {
   "cell_type": "code",
   "execution_count": 25,
   "id": "46940f1c-8da0-4845-860d-d1fe5920ecd1",
   "metadata": {},
   "outputs": [
    {
     "data": {
      "image/svg+xml": [
       "<?xml version=\"1.0\" encoding=\"UTF-8\" standalone=\"no\"?>\n",
       "<!DOCTYPE svg PUBLIC \"-//W3C//DTD SVG 1.1//EN\"\n",
       " \"http://www.w3.org/Graphics/SVG/1.1/DTD/svg11.dtd\">\n",
       "<!-- Generated by graphviz version 12.2.1 (20241206.2353)\n",
       " -->\n",
       "<!-- Title: G Pages: 1 -->\n",
       "<svg width=\"405pt\" height=\"298pt\"\n",
       " viewBox=\"0.00 0.00 405.12 298.38\" xmlns=\"http://www.w3.org/2000/svg\" xmlns:xlink=\"http://www.w3.org/1999/xlink\">\n",
       "<g id=\"graph0\" class=\"graph\" transform=\"scale(1 1) rotate(0) translate(4 294.38)\">\n",
       "<title>G</title>\n",
       "<polygon fill=\"white\" stroke=\"none\" points=\"-4,4 -4,-294.38 401.12,-294.38 401.12,4 -4,4\"/>\n",
       "<!-- __start__ -->\n",
       "<g id=\"node1\" class=\"node\">\n",
       "<title>__start__</title>\n",
       "<ellipse fill=\"lightblue\" stroke=\"black\" cx=\"192.75\" cy=\"-273.58\" rx=\"51.09\" ry=\"16.79\"/>\n",
       "<text text-anchor=\"middle\" x=\"192.75\" y=\"-268.16\" font-family=\"Arial\" font-size=\"14.00\">__start__</text>\n",
       "</g>\n",
       "<!-- Research agent -->\n",
       "<g id=\"node3\" class=\"node\">\n",
       "<title>Research agent</title>\n",
       "<polygon fill=\"lightyellow\" stroke=\"black\" points=\"248.38,-220.79 137.12,-220.79 137.12,-163.19 248.38,-163.19 248.38,-220.79\"/>\n",
       "<text text-anchor=\"middle\" x=\"192.75\" y=\"-186.56\" font-family=\"Arial\" font-size=\"14.00\">Research agent</text>\n",
       "</g>\n",
       "<!-- __start__&#45;&gt;Research agent -->\n",
       "<g id=\"edge1\" class=\"edge\">\n",
       "<title>__start__&#45;&gt;Research agent</title>\n",
       "<path fill=\"none\" stroke=\"black\" stroke-width=\"1.5\" d=\"M192.75,-256.47C192.75,-249.64 192.75,-241.34 192.75,-233.02\"/>\n",
       "<polygon fill=\"black\" stroke=\"black\" stroke-width=\"1.5\" points=\"196.25,-233.26 192.75,-223.26 189.25,-233.26 196.25,-233.26\"/>\n",
       "</g>\n",
       "<!-- __end__ -->\n",
       "<g id=\"node2\" class=\"node\">\n",
       "<title>__end__</title>\n",
       "<ellipse fill=\"lightblue\" stroke=\"black\" cx=\"192.75\" cy=\"-16.79\" rx=\"48.44\" ry=\"16.79\"/>\n",
       "<text text-anchor=\"middle\" x=\"192.75\" y=\"-11.37\" font-family=\"Arial\" font-size=\"14.00\">__end__</text>\n",
       "</g>\n",
       "<!-- Kid Writer Agent -->\n",
       "<g id=\"node4\" class=\"node\">\n",
       "<title>Kid Writer Agent</title>\n",
       "<polygon fill=\"lightyellow\" stroke=\"black\" points=\"113.5,-127.19 0,-127.19 0,-69.59 113.5,-69.59 113.5,-127.19\"/>\n",
       "<text text-anchor=\"middle\" x=\"56.75\" y=\"-92.96\" font-family=\"Arial\" font-size=\"14.00\">Kid Writer Agent</text>\n",
       "</g>\n",
       "<!-- Research agent&#45;&gt;Kid Writer Agent -->\n",
       "<g id=\"edge2\" class=\"edge\">\n",
       "<title>Research agent&#45;&gt;Kid Writer Agent</title>\n",
       "<path fill=\"none\" stroke=\"black\" stroke-width=\"1.5\" d=\"M150.84,-162.76C137.52,-153.79 122.63,-143.76 108.7,-134.38\"/>\n",
       "<polygon fill=\"black\" stroke=\"black\" stroke-width=\"1.5\" points=\"110.89,-131.63 100.64,-128.95 106.98,-137.44 110.89,-131.63\"/>\n",
       "</g>\n",
       "<!-- Teen Writer Agent -->\n",
       "<g id=\"node5\" class=\"node\">\n",
       "<title>Teen Writer Agent</title>\n",
       "<polygon fill=\"lightyellow\" stroke=\"black\" points=\"254.38,-127.19 131.12,-127.19 131.12,-69.59 254.38,-69.59 254.38,-127.19\"/>\n",
       "<text text-anchor=\"middle\" x=\"192.75\" y=\"-92.96\" font-family=\"Arial\" font-size=\"14.00\">Teen Writer Agent</text>\n",
       "</g>\n",
       "<!-- Research agent&#45;&gt;Teen Writer Agent -->\n",
       "<g id=\"edge4\" class=\"edge\">\n",
       "<title>Research agent&#45;&gt;Teen Writer Agent</title>\n",
       "<path fill=\"none\" stroke=\"black\" stroke-width=\"1.5\" d=\"M192.75,-163.01C192.75,-155.62 192.75,-147.5 192.75,-139.6\"/>\n",
       "<polygon fill=\"black\" stroke=\"black\" stroke-width=\"1.5\" points=\"196.25,-139.78 192.75,-129.78 189.25,-139.78 196.25,-139.78\"/>\n",
       "</g>\n",
       "<!-- Adult Writer Agent -->\n",
       "<g id=\"node6\" class=\"node\">\n",
       "<title>Adult Writer Agent</title>\n",
       "<polygon fill=\"lightyellow\" stroke=\"black\" points=\"397.12,-127.19 272.38,-127.19 272.38,-69.59 397.12,-69.59 397.12,-127.19\"/>\n",
       "<text text-anchor=\"middle\" x=\"334.75\" y=\"-92.96\" font-family=\"Arial\" font-size=\"14.00\">Adult Writer Agent</text>\n",
       "</g>\n",
       "<!-- Research agent&#45;&gt;Adult Writer Agent -->\n",
       "<g id=\"edge6\" class=\"edge\">\n",
       "<title>Research agent&#45;&gt;Adult Writer Agent</title>\n",
       "<path fill=\"none\" stroke=\"black\" stroke-width=\"1.5\" d=\"M236.51,-162.76C250.55,-153.7 266.26,-143.57 280.93,-134.1\"/>\n",
       "<polygon fill=\"black\" stroke=\"black\" stroke-width=\"1.5\" points=\"282.47,-137.28 288.98,-128.91 278.68,-131.39 282.47,-137.28\"/>\n",
       "</g>\n",
       "<!-- Kid Writer Agent&#45;&gt;__end__ -->\n",
       "<g id=\"edge3\" class=\"edge\">\n",
       "<title>Kid Writer Agent&#45;&gt;__end__</title>\n",
       "<path fill=\"none\" stroke=\"black\" stroke-width=\"1.5\" d=\"M105.08,-69.1C122.7,-58.79 142.24,-47.35 158.4,-37.9\"/>\n",
       "<polygon fill=\"black\" stroke=\"black\" stroke-width=\"1.5\" points=\"160.16,-40.92 167.02,-32.85 156.62,-34.88 160.16,-40.92\"/>\n",
       "</g>\n",
       "<!-- Teen Writer Agent&#45;&gt;__end__ -->\n",
       "<g id=\"edge5\" class=\"edge\">\n",
       "<title>Teen Writer Agent&#45;&gt;__end__</title>\n",
       "<path fill=\"none\" stroke=\"black\" stroke-width=\"1.5\" d=\"M192.75,-69.1C192.75,-61.64 192.75,-53.58 192.75,-46.11\"/>\n",
       "<polygon fill=\"black\" stroke=\"black\" stroke-width=\"1.5\" points=\"196.25,-46.21 192.75,-36.21 189.25,-46.21 196.25,-46.21\"/>\n",
       "</g>\n",
       "<!-- Adult Writer Agent&#45;&gt;__end__ -->\n",
       "<g id=\"edge7\" class=\"edge\">\n",
       "<title>Adult Writer Agent&#45;&gt;__end__</title>\n",
       "<path fill=\"none\" stroke=\"black\" stroke-width=\"1.5\" d=\"M284.29,-69.1C265.58,-58.62 244.8,-46.97 227.77,-37.42\"/>\n",
       "<polygon fill=\"black\" stroke=\"black\" stroke-width=\"1.5\" points=\"229.6,-34.44 219.16,-32.6 226.18,-40.54 229.6,-34.44\"/>\n",
       "</g>\n",
       "</g>\n",
       "</svg>\n"
      ],
      "text/plain": [
       "<graphviz.sources.Source at 0x23d4a0bb150>"
      ]
     },
     "execution_count": 25,
     "metadata": {},
     "output_type": "execute_result"
    }
   ],
   "source": [
    "draw_graph(researcher_agent)"
   ]
  }
 ],
 "metadata": {
  "kernelspec": {
   "display_name": "Python 3 (ipykernel)",
   "language": "python",
   "name": "python3"
  },
  "language_info": {
   "codemirror_mode": {
    "name": "ipython",
    "version": 3
   },
   "file_extension": ".py",
   "mimetype": "text/x-python",
   "name": "python",
   "nbconvert_exporter": "python",
   "pygments_lexer": "ipython3",
   "version": "3.11.11"
  }
 },
 "nbformat": 4,
 "nbformat_minor": 5
}
