{
  "nbformat": 4,
  "nbformat_minor": 0,
  "metadata": {
    "colab": {
      "provenance": []
    },
    "kernelspec": {
      "name": "python3",
      "display_name": "Python 3"
    },
    "language_info": {
      "name": "python"
    }
  },
  "cells": [
    {
      "cell_type": "markdown",
      "source": [
        "# Multi-Agent Orchestration\n",
        "\n",
        "Colab file: https://colab.research.google.com/drive/1hV0N4Gt7GMea0yhUccRplhIXyFKbBpWQ#scrollTo=D4rht8GQ7U60\n",
        "\n",
        "\n",
        "### Types of structure\n",
        "\n",
        "compare to sequence, selection and iteration -\n",
        "\n",
        "the **structured programming theorem**, states that any computable function can be implemented using just three fundamental control structures:\n",
        "\n",
        "1. **Sequence** – Executing statements one after another.\n",
        "2. **Selection (Decision-making)** – Using conditional statements (e.g., `if-else`, `switch`) to control the flow based on conditions.\n",
        "3. **Iteration (Loops)** – Repeating a set of statements using loops (`for`, `while`, `do-while`).\n",
        "\n",
        "These three constructs are sufficient to express any algorithm.\n",
        "\n",
        "Suggest than agent orchestration can be solved similarly.\n",
        "\n",
        "Control of agents and tools can be explicit (programmatic) or under control of agent\n",
        "\n",
        "- single with tools\n",
        "\n",
        "- linear - sequence\n",
        "\n",
        "- hierarchical - selection and iteration\n",
        "\n",
        "- with or without handoff - i.e. pass context to new agent or not\n",
        "\n",
        "- finite state machine"
      ],
      "metadata": {
        "id": "yCCLx5C-8xfB"
      }
    },
    {
      "cell_type": "markdown",
      "source": [
        "# Multi agent systems\n",
        "\n",
        "### What\n",
        "### Why\n",
        "### How\n",
        "\n",
        "There are a few questions that need answering when designing a multi-agent system possibly the most important is \"Do I really need this?\". We've thought about what the advantages are but, if you can solve you problems with a simpler system then you should probably do so. Multi-agent systems might be the flavour of the month and they are a great thing to learn about butwhen it comes to practical solutions, simple is best.\n",
        "\n",
        "But, let's assume that you are convinced. Here are some other question to answer.\n",
        "\n",
        "Do the agents need to be connected? We could write a program that invokes an agent and take the output of that agent and feeds it into another. We might term this arrangement as a loosely coupled agent system. This makes the assumption that the downstream agent does not need to need to know anything about what the first agent did. For example, say I wanted to find the population of the capital of France:\n",
        "\n",
        "_User: \"Hi Agent1 can you tell me the capital city of France?\"_\n",
        "\n",
        "_Agent1: \"Certainly, the capital of France is Paris\"_\n",
        "\n",
        "_``# Program logic to extract the relevant answer and build the new request``_\n",
        "\n",
        "_User: \"Hi Agent2, can you tell me the approximate population of Paris, France?\"_\n",
        "\n",
        "_Agent2: \"The population of Paris, France is around 2 million people.\"_\n",
        "\n",
        "This is a very trivial example, of course, and we are assuming that between the first and second requests there is some program logic that will extract 'Paris' from the first response and formulate the new request.\n",
        "\n",
        "Alternatively, we could share the context from the first agent with the second one. Here's some pseudo code that represents this:\n",
        "\n",
        "```\n",
        "# Pseuso code\n",
        "context.add(\"Hi Agent1 can you tell me the capital city of France?\")\n",
        "response = agent1.call(context)\n",
        "new_context = response.context\n",
        "new_context.add(\"And what is the population\")\n",
        "response = agent2(new_context)\n",
        "```\n",
        "\n",
        "we started by setting the context to a request to find the capital of France. We then called an gent\n"
      ],
      "metadata": {
        "id": "pBDPOq_gWo5M"
      }
    },
    {
      "cell_type": "code",
      "execution_count": null,
      "metadata": {
        "colab": {
          "base_uri": "https://localhost:8080/"
        },
        "id": "0A1w4e7l6KlM",
        "outputId": "4f308467-e3ff-4db7-b13f-c9db8c4f0908"
      },
      "outputs": [
        {
          "output_type": "stream",
          "name": "stdout",
          "text": [
            "Collecting git+https://github.com/openai/swarm.git\n",
            "  Cloning https://github.com/openai/swarm.git to /tmp/pip-req-build-vdf6stj2\n",
            "  Running command git clone --filter=blob:none --quiet https://github.com/openai/swarm.git /tmp/pip-req-build-vdf6stj2\n",
            "  Resolved https://github.com/openai/swarm.git to commit 9db581cecaacea0d46a933d6453c312b034dbf47\n",
            "  Installing build dependencies ... \u001b[?25l\u001b[?25hdone\n",
            "  Getting requirements to build wheel ... \u001b[?25l\u001b[?25hdone\n",
            "  Preparing metadata (pyproject.toml) ... \u001b[?25l\u001b[?25hdone\n",
            "Requirement already satisfied: numpy in /usr/local/lib/python3.11/dist-packages (from swarm==0.1.0) (1.26.4)\n",
            "Requirement already satisfied: openai>=1.33.0 in /usr/local/lib/python3.11/dist-packages (from swarm==0.1.0) (1.61.1)\n",
            "Requirement already satisfied: pytest in /usr/local/lib/python3.11/dist-packages (from swarm==0.1.0) (8.3.5)\n",
            "Requirement already satisfied: requests in /usr/local/lib/python3.11/dist-packages (from swarm==0.1.0) (2.32.3)\n",
            "Requirement already satisfied: tqdm in /usr/local/lib/python3.11/dist-packages (from swarm==0.1.0) (4.67.1)\n",
            "Requirement already satisfied: pre-commit in /usr/local/lib/python3.11/dist-packages (from swarm==0.1.0) (4.1.0)\n",
            "Requirement already satisfied: instructor in /usr/local/lib/python3.11/dist-packages (from swarm==0.1.0) (1.7.3)\n",
            "Requirement already satisfied: anyio<5,>=3.5.0 in /usr/local/lib/python3.11/dist-packages (from openai>=1.33.0->swarm==0.1.0) (3.7.1)\n",
            "Requirement already satisfied: distro<2,>=1.7.0 in /usr/local/lib/python3.11/dist-packages (from openai>=1.33.0->swarm==0.1.0) (1.9.0)\n",
            "Requirement already satisfied: httpx<1,>=0.23.0 in /usr/local/lib/python3.11/dist-packages (from openai>=1.33.0->swarm==0.1.0) (0.28.1)\n",
            "Requirement already satisfied: jiter<1,>=0.4.0 in /usr/local/lib/python3.11/dist-packages (from openai>=1.33.0->swarm==0.1.0) (0.8.2)\n",
            "Requirement already satisfied: pydantic<3,>=1.9.0 in /usr/local/lib/python3.11/dist-packages (from openai>=1.33.0->swarm==0.1.0) (2.10.6)\n",
            "Requirement already satisfied: sniffio in /usr/local/lib/python3.11/dist-packages (from openai>=1.33.0->swarm==0.1.0) (1.3.1)\n",
            "Requirement already satisfied: typing-extensions<5,>=4.11 in /usr/local/lib/python3.11/dist-packages (from openai>=1.33.0->swarm==0.1.0) (4.12.2)\n",
            "Requirement already satisfied: aiohttp<4.0.0,>=3.9.1 in /usr/local/lib/python3.11/dist-packages (from instructor->swarm==0.1.0) (3.11.13)\n",
            "Requirement already satisfied: docstring-parser<1.0,>=0.16 in /usr/local/lib/python3.11/dist-packages (from instructor->swarm==0.1.0) (0.16)\n",
            "Requirement already satisfied: jinja2<4.0.0,>=3.1.4 in /usr/local/lib/python3.11/dist-packages (from instructor->swarm==0.1.0) (3.1.6)\n",
            "Requirement already satisfied: pydantic-core<3.0.0,>=2.18.0 in /usr/local/lib/python3.11/dist-packages (from instructor->swarm==0.1.0) (2.27.2)\n",
            "Requirement already satisfied: rich<14.0.0,>=13.7.0 in /usr/local/lib/python3.11/dist-packages (from instructor->swarm==0.1.0) (13.9.4)\n",
            "Requirement already satisfied: tenacity<10.0.0,>=9.0.0 in /usr/local/lib/python3.11/dist-packages (from instructor->swarm==0.1.0) (9.0.0)\n",
            "Requirement already satisfied: typer<1.0.0,>=0.9.0 in /usr/local/lib/python3.11/dist-packages (from instructor->swarm==0.1.0) (0.15.2)\n",
            "Requirement already satisfied: charset-normalizer<4,>=2 in /usr/local/lib/python3.11/dist-packages (from requests->swarm==0.1.0) (3.4.1)\n",
            "Requirement already satisfied: idna<4,>=2.5 in /usr/local/lib/python3.11/dist-packages (from requests->swarm==0.1.0) (3.10)\n",
            "Requirement already satisfied: urllib3<3,>=1.21.1 in /usr/local/lib/python3.11/dist-packages (from requests->swarm==0.1.0) (2.3.0)\n",
            "Requirement already satisfied: certifi>=2017.4.17 in /usr/local/lib/python3.11/dist-packages (from requests->swarm==0.1.0) (2025.1.31)\n",
            "Requirement already satisfied: cfgv>=2.0.0 in /usr/local/lib/python3.11/dist-packages (from pre-commit->swarm==0.1.0) (3.4.0)\n",
            "Requirement already satisfied: identify>=1.0.0 in /usr/local/lib/python3.11/dist-packages (from pre-commit->swarm==0.1.0) (2.6.9)\n",
            "Requirement already satisfied: nodeenv>=0.11.1 in /usr/local/lib/python3.11/dist-packages (from pre-commit->swarm==0.1.0) (1.9.1)\n",
            "Requirement already satisfied: pyyaml>=5.1 in /usr/local/lib/python3.11/dist-packages (from pre-commit->swarm==0.1.0) (6.0.2)\n",
            "Requirement already satisfied: virtualenv>=20.10.0 in /usr/local/lib/python3.11/dist-packages (from pre-commit->swarm==0.1.0) (20.29.3)\n",
            "Requirement already satisfied: iniconfig in /usr/local/lib/python3.11/dist-packages (from pytest->swarm==0.1.0) (2.0.0)\n",
            "Requirement already satisfied: packaging in /usr/local/lib/python3.11/dist-packages (from pytest->swarm==0.1.0) (24.2)\n",
            "Requirement already satisfied: pluggy<2,>=1.5 in /usr/local/lib/python3.11/dist-packages (from pytest->swarm==0.1.0) (1.5.0)\n",
            "Requirement already satisfied: aiohappyeyeballs>=2.3.0 in /usr/local/lib/python3.11/dist-packages (from aiohttp<4.0.0,>=3.9.1->instructor->swarm==0.1.0) (2.5.0)\n",
            "Requirement already satisfied: aiosignal>=1.1.2 in /usr/local/lib/python3.11/dist-packages (from aiohttp<4.0.0,>=3.9.1->instructor->swarm==0.1.0) (1.3.2)\n",
            "Requirement already satisfied: attrs>=17.3.0 in /usr/local/lib/python3.11/dist-packages (from aiohttp<4.0.0,>=3.9.1->instructor->swarm==0.1.0) (25.1.0)\n",
            "Requirement already satisfied: frozenlist>=1.1.1 in /usr/local/lib/python3.11/dist-packages (from aiohttp<4.0.0,>=3.9.1->instructor->swarm==0.1.0) (1.5.0)\n",
            "Requirement already satisfied: multidict<7.0,>=4.5 in /usr/local/lib/python3.11/dist-packages (from aiohttp<4.0.0,>=3.9.1->instructor->swarm==0.1.0) (6.1.0)\n",
            "Requirement already satisfied: propcache>=0.2.0 in /usr/local/lib/python3.11/dist-packages (from aiohttp<4.0.0,>=3.9.1->instructor->swarm==0.1.0) (0.3.0)\n",
            "Requirement already satisfied: yarl<2.0,>=1.17.0 in /usr/local/lib/python3.11/dist-packages (from aiohttp<4.0.0,>=3.9.1->instructor->swarm==0.1.0) (1.18.3)\n",
            "Requirement already satisfied: httpcore==1.* in /usr/local/lib/python3.11/dist-packages (from httpx<1,>=0.23.0->openai>=1.33.0->swarm==0.1.0) (1.0.7)\n",
            "Requirement already satisfied: h11<0.15,>=0.13 in /usr/local/lib/python3.11/dist-packages (from httpcore==1.*->httpx<1,>=0.23.0->openai>=1.33.0->swarm==0.1.0) (0.14.0)\n",
            "Requirement already satisfied: MarkupSafe>=2.0 in /usr/local/lib/python3.11/dist-packages (from jinja2<4.0.0,>=3.1.4->instructor->swarm==0.1.0) (3.0.2)\n",
            "Requirement already satisfied: annotated-types>=0.6.0 in /usr/local/lib/python3.11/dist-packages (from pydantic<3,>=1.9.0->openai>=1.33.0->swarm==0.1.0) (0.7.0)\n",
            "Requirement already satisfied: markdown-it-py>=2.2.0 in /usr/local/lib/python3.11/dist-packages (from rich<14.0.0,>=13.7.0->instructor->swarm==0.1.0) (3.0.0)\n",
            "Requirement already satisfied: pygments<3.0.0,>=2.13.0 in /usr/local/lib/python3.11/dist-packages (from rich<14.0.0,>=13.7.0->instructor->swarm==0.1.0) (2.18.0)\n",
            "Requirement already satisfied: click>=8.0.0 in /usr/local/lib/python3.11/dist-packages (from typer<1.0.0,>=0.9.0->instructor->swarm==0.1.0) (8.1.8)\n",
            "Requirement already satisfied: shellingham>=1.3.0 in /usr/local/lib/python3.11/dist-packages (from typer<1.0.0,>=0.9.0->instructor->swarm==0.1.0) (1.5.4)\n",
            "Requirement already satisfied: distlib<1,>=0.3.7 in /usr/local/lib/python3.11/dist-packages (from virtualenv>=20.10.0->pre-commit->swarm==0.1.0) (0.3.9)\n",
            "Requirement already satisfied: filelock<4,>=3.12.2 in /usr/local/lib/python3.11/dist-packages (from virtualenv>=20.10.0->pre-commit->swarm==0.1.0) (3.17.0)\n",
            "Requirement already satisfied: platformdirs<5,>=3.9.1 in /usr/local/lib/python3.11/dist-packages (from virtualenv>=20.10.0->pre-commit->swarm==0.1.0) (4.3.6)\n",
            "Requirement already satisfied: mdurl~=0.1 in /usr/local/lib/python3.11/dist-packages (from markdown-it-py>=2.2.0->rich<14.0.0,>=13.7.0->instructor->swarm==0.1.0) (0.1.2)\n"
          ]
        }
      ],
      "source": [
        "# Use swarm or pedantic AI\n",
        "! pip install git+https://github.com/openai/swarm.git\n",
        "# ! pip install pydantic-ai"
      ]
    },
    {
      "cell_type": "code",
      "source": [
        "from google.colab import userdata\n",
        "import os\n",
        "os.environ['OPENAI_API_KEY'] = userdata.get('OPENAI_API_KEY')"
      ],
      "metadata": {
        "id": "D4rht8GQ7U60"
      },
      "execution_count": null,
      "outputs": []
    },
    {
      "cell_type": "code",
      "source": [
        "from swarm import Swarm, Agent\n",
        "\n",
        "client = Swarm()\n",
        "\n",
        "def transfer_to_agent_b():\n",
        "    return agent_b\n",
        "\n",
        "\n",
        "agent_a = Agent(\n",
        "    name=\"Agent A\",\n",
        "    instructions=\"You are a helpful agent.\",\n",
        "    functions=[transfer_to_agent_b],\n",
        ")\n",
        "\n",
        "agent_b = Agent(\n",
        "    name=\"Agent B\",\n",
        "    instructions=\"Only speak in Haikus.\",\n",
        ")\n",
        "\n",
        "response = client.run(\n",
        "    agent=agent_a,\n",
        "    messages=[{\"role\": \"user\", \"content\": \"I want to talk to agent B.\"}],\n",
        ")\n",
        "\n",
        "print(response.messages[-1][\"content\"])"
      ],
      "metadata": {
        "colab": {
          "base_uri": "https://localhost:8080/"
        },
        "id": "Y-ArT42N67kc",
        "outputId": "cc2d2572-044f-46d6-abfd-8efa4581dc8a"
      },
      "execution_count": null,
      "outputs": [
        {
          "output_type": "stream",
          "name": "stdout",
          "text": [
            "Agent B will help.  \n",
            "In just a moment, you'll see  \n",
            "answers that you need.\n"
          ]
        }
      ]
    },
    {
      "cell_type": "code",
      "source": [],
      "metadata": {
        "id": "SYkdKTGJCOw2"
      },
      "execution_count": null,
      "outputs": []
    },
    {
      "cell_type": "code",
      "source": [],
      "metadata": {
        "id": "_xLpHLtbCO2D"
      },
      "execution_count": null,
      "outputs": []
    }
  ]
}